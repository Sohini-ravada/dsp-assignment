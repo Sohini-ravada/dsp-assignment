{
 "cells": [
  {
   "cell_type": "code",
   "execution_count": 5,
   "id": "d34bf7ad",
   "metadata": {},
   "outputs": [
    {
     "name": "stdout",
     "output_type": "stream",
     "text": [
      "series1:\n",
      "0    2\n",
      "1    4\n",
      "2    5\n",
      "3    6\n",
      "4    7\n",
      "dtype: int64\n",
      "series2:\n",
      "0    2\n",
      "1    4\n",
      "2    5\n",
      "3    6\n",
      "4    7\n",
      "dtype: int64\n",
      "compare th elements of the given series:\n",
      "equals:\n",
      "0    False\n",
      "1    False\n",
      "2    False\n",
      "3    False\n",
      "4    False\n",
      "dtype: bool\n",
      "greater than:\n",
      "0     True\n",
      "1    False\n",
      "2    False\n",
      "3    False\n",
      "4     True\n",
      "dtype: bool\n",
      "lessthan:\n",
      "0    False\n",
      "1     True\n",
      "2     True\n",
      "3     True\n",
      "4    False\n",
      "dtype: bool\n"
     ]
    }
   ],
   "source": [
    "import pandas as pd\n",
    "ds1=pd.Series([2,4,5,6,7])\n",
    "ds2=pd.Series([0,7,9,8,4])\n",
    "print(\"series1:\")\n",
    "print(ds1)\n",
    "print(\"series2:\")\n",
    "print(ds1)\n",
    "print(\"compare the elements of the given series:\")\n",
    "print(\"equals:\")\n",
    "print(ds1==ds2)\n",
    "print(\"greater than:\")\n",
    "print(ds1>ds2)\n",
    "print(\"lessthan:\")\n",
    "print(ds1<ds2)"
   ]
  },
  {
   "cell_type": "code",
   "execution_count": 6,
   "id": "e45e0f47",
   "metadata": {},
   "outputs": [
    {
     "name": "stdout",
     "output_type": "stream",
     "text": [
      "0     7\n",
      "1     9\n",
      "2    11\n",
      "3    13\n",
      "4     5\n",
      "dtype: int64\n",
      "add two series:\n",
      "0     7\n",
      "1     9\n",
      "2    11\n",
      "3    13\n",
      "4     5\n",
      "dtype: int64\n",
      "0     7\n",
      "1     9\n",
      "2    11\n",
      "3    13\n",
      "4     5\n",
      "dtype: int64\n",
      "multiply two series:\n",
      "0     42\n",
      "1     63\n",
      "2     88\n",
      "3    117\n",
      "4      0\n",
      "dtype: int64\n",
      "0     7\n",
      "1     9\n",
      "2    11\n",
      "3    13\n",
      "4     5\n",
      "dtype: int64\n",
      "subtract two series:\n",
      "0    5\n",
      "1    5\n",
      "2    5\n",
      "3    5\n",
      "4   -5\n",
      "dtype: int64\n",
      "0     7\n",
      "1     9\n",
      "2    11\n",
      "3    13\n",
      "4     5\n",
      "dtype: int64\n",
      "divide two series:\n",
      "0    6.000000\n",
      "1    3.500000\n",
      "2    2.666667\n",
      "3    2.250000\n",
      "4    0.000000\n",
      "dtype: float64\n",
      "0     7\n",
      "1     9\n",
      "2    11\n",
      "3    13\n",
      "4     5\n",
      "dtype: int64\n"
     ]
    }
   ],
   "source": [
    "import pandas as pd\n",
    "ds1=pd.Series([1,2,3,4,5])\n",
    "ds2=pd.Series([6,7,8,9,0])\n",
    "ds=ds1+ds2\n",
    "print(ds)\n",
    "print(\"add two series:\")\n",
    "print(ds1+ds2)\n",
    "print(ds)\n",
    "print(\"multiply two series:\")\n",
    "print(ds*ds2)\n",
    "print(ds)\n",
    "print(\"subtract two series:\")\n",
    "print(ds2-ds1)\n",
    "print(ds)\n",
    "print(\"divide two series:\")\n",
    "print(ds2/ds1)\n",
    "print(ds)"
   ]
  },
  {
   "cell_type": "code",
   "execution_count": 2,
   "id": "3627941b",
   "metadata": {},
   "outputs": [
    {
     "name": "stdout",
     "output_type": "stream",
     "text": [
      "original data series:\n",
      "0        13\n",
      "1        88\n",
      "2       567\n",
      "3    pandas\n",
      "4    500.67\n",
      "5       350\n",
      "dtype: object\n",
      "change data type to numeric:\n",
      "0     13.00\n",
      "1     88.00\n",
      "2    567.00\n",
      "3       NaN\n",
      "4    500.67\n",
      "5    350.00\n",
      "dtype: float64\n"
     ]
    }
   ],
   "source": [
    "# change data type of column or series\n",
    "import pandas as pd\n",
    "s1=pd.Series(['13','88','567','pandas','500.67','350'])\n",
    "print(\"original data series:\")\n",
    "print(s1)\n",
    "print(\"change data type to numeric:\")\n",
    "s2=pd.to_numeric(s1,errors='coerce')\n",
    "print(s2)"
   ]
  },
  {
   "cell_type": "code",
   "execution_count": 4,
   "id": "d1f87623",
   "metadata": {},
   "outputs": [
    {
     "ename": "SyntaxError",
     "evalue": "invalid syntax (3284441430.py, line 8)",
     "output_type": "error",
     "traceback": [
      "\u001b[1;36m  Input \u001b[1;32mIn [4]\u001b[1;36m\u001b[0m\n\u001b[1;33m    print(1st column as a series:\")\u001b[0m\n\u001b[1;37m           ^\u001b[0m\n\u001b[1;31mSyntaxError\u001b[0m\u001b[1;31m:\u001b[0m invalid syntax\n"
     ]
    }
   ],
   "source": [
    "#convert the first column of a dataframe as a series\n",
    "import pandas as pd\n",
    "d={'col1':[1,2,3,4],'col2':[5,6,7,8]}\n",
    "df=pd.DataFrame(d)\n",
    "print(\"original DataFrame\")\n",
    "print(df)\n",
    "s1=df.ix[:,0]\n",
    "print(1st column as a series:\")\n",
    "print(type(s1))"
   ]
  },
  {
   "cell_type": "code",
   "execution_count": 22,
   "id": "d8dc17f6",
   "metadata": {},
   "outputs": [
    {
     "name": "stdout",
     "output_type": "stream",
     "text": [
      "original data series:\n",
      "0     10\n",
      "1     30\n",
      "2     67\n",
      "3    855\n",
      "dtype: object\n",
      "series to an array:\n",
      "['10' '30' '67' '855']\n"
     ]
    }
   ],
   "source": [
    "#covert series to an array\n",
    "import pandas as pd\n",
    "import numpy as np\n",
    "s1=pd.Series(['10','30','67','855'])\n",
    "print(\"original data series:\")\n",
    "print(s1)\n",
    "print(\"series to an array:\")\n",
    "a=np.array(s1.values.tolist())\n",
    "print(a)"
   ]
  },
  {
   "cell_type": "code",
   "execution_count": 4,
   "id": "76361add",
   "metadata": {},
   "outputs": [
    {
     "name": "stdout",
     "output_type": "stream",
     "text": [
      "original seies\n",
      "0       100\n",
      "1       200\n",
      "2    python\n",
      "3    300.12\n",
      "4       400\n",
      "dtype: object\n",
      "0       100\n",
      "1       200\n",
      "3    300.12\n",
      "4       400\n",
      "2    python\n",
      "dtype: object\n"
     ]
    }
   ],
   "source": [
    "#to sort given series\n",
    "import pandas as pd\n",
    "s=pd.Series(['100','200','python','300.12','400'])\n",
    "print(\"original seies\")\n",
    "print(s)\n",
    "new_s=pd.Series(s).sort_values()\n",
    "print(new_s)"
   ]
  },
  {
   "cell_type": "code",
   "execution_count": 26,
   "id": "f9a77c3e",
   "metadata": {},
   "outputs": [
    {
     "name": "stdout",
     "output_type": "stream",
     "text": [
      "original series:\n",
      "0       100\n",
      "1       200\n",
      "2    adding\n",
      "3     300.1\n",
      "4       400\n",
      "dtype: object\n",
      "\n",
      "Series after adding some data:\n",
      "0        100\n",
      "1        200\n",
      "2     adding\n",
      "3      300.1\n",
      "4        400\n",
      "0        500\n",
      "1    series:\n",
      "dtype: object\n"
     ]
    },
    {
     "name": "stderr",
     "output_type": "stream",
     "text": [
      "C:\\Users\\sohiniprasad\\AppData\\Local\\Temp\\ipykernel_13460\\852551029.py:7: FutureWarning: The series.append method is deprecated and will be removed from pandas in a future version. Use pandas.concat instead.\n",
      "  new_s=s.append(pd.Series(['500','series:']))\n"
     ]
    }
   ],
   "source": [
    "#pandas to add some data to an existing series\n",
    "import pandas as pd\n",
    "s=pd.Series(['100','200','adding','300.1','400'])\n",
    "print(\"original series:\")\n",
    "print(s)\n",
    "print(\"\\nSeries after adding some data:\")\n",
    "new_s=s.append(pd.Series(['500','series:']))\n",
    "print(new_s)\n"
   ]
  },
  {
   "cell_type": "code",
   "execution_count": 33,
   "id": "ecd4cc5d",
   "metadata": {},
   "outputs": [
    {
     "name": "stdout",
     "output_type": "stream",
     "text": [
      "original data series:\n",
      "0    1\n",
      "1    2\n",
      "2    3\n",
      "3    4\n",
      "4    5\n",
      "5    6\n",
      "6    7\n",
      "7    8\n",
      "dtype: int64\n",
      "\n",
      "subset of the above data Series:\n",
      "0    1\n",
      "1    2\n",
      "2    3\n",
      "3    4\n",
      "4    5\n",
      "5    6\n",
      "6    7\n",
      "7    8\n",
      "dtype: int64\n"
     ]
    }
   ],
   "source": [
    "import pandas as pd\n",
    "s=pd.Series([1,2,3,4,5,6,7,8])\n",
    "print(\"original data series:\")\n",
    "print(s)\n",
    "print(\"\\nsubset of the above data Series:\")\n",
    "n=9\n",
    "new_s=s[s<n]\n",
    "print(new_s)"
   ]
  },
  {
   "cell_type": "code",
   "execution_count": 35,
   "id": "e3f3ae58",
   "metadata": {},
   "outputs": [
    {
     "name": "stdout",
     "output_type": "stream",
     "text": [
      "original series:\n",
      "index of given series:\n",
      "0    a\n",
      "1    b\n",
      "2    c\n",
      "3    d\n",
      "4    e\n",
      "5    f\n",
      "dtype: object\n"
     ]
    }
   ],
   "source": [
    "import pandas as pd\n",
    "s=pd.Series(['a','b','c','d','e','f'])\n",
    "print(\"original series:\")\n",
    "print(\"index of given series:\")\n",
    "print(s)\n",
    "\n"
   ]
  },
  {
   "cell_type": "code",
   "execution_count": null,
   "id": "72cbd11a",
   "metadata": {},
   "outputs": [],
   "source": []
  },
  {
   "cell_type": "code",
   "execution_count": null,
   "id": "82253107",
   "metadata": {},
   "outputs": [],
   "source": []
  }
 ],
 "metadata": {
  "kernelspec": {
   "display_name": "Python 3 (ipykernel)",
   "language": "python",
   "name": "python3"
  },
  "language_info": {
   "codemirror_mode": {
    "name": "ipython",
    "version": 3
   },
   "file_extension": ".py",
   "mimetype": "text/x-python",
   "name": "python",
   "nbconvert_exporter": "python",
   "pygments_lexer": "ipython3",
   "version": "3.9.12"
  }
 },
 "nbformat": 4,
 "nbformat_minor": 5
}
