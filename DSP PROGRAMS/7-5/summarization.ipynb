{
 "cells": [
  {
   "cell_type": "code",
   "execution_count": 2,
   "id": "385fc57c",
   "metadata": {},
   "outputs": [
    {
     "data": {
      "text/html": [
       "<div>\n",
       "<style scoped>\n",
       "    .dataframe tbody tr th:only-of-type {\n",
       "        vertical-align: middle;\n",
       "    }\n",
       "\n",
       "    .dataframe tbody tr th {\n",
       "        vertical-align: top;\n",
       "    }\n",
       "\n",
       "    .dataframe thead th {\n",
       "        text-align: right;\n",
       "    }\n",
       "</style>\n",
       "<table border=\"1\" class=\"dataframe\">\n",
       "  <thead>\n",
       "    <tr style=\"text-align: right;\">\n",
       "      <th></th>\n",
       "      <th>s.no</th>\n",
       "      <th>name</th>\n",
       "      <th>age</th>\n",
       "      <th>gender</th>\n",
       "      <th>dept</th>\n",
       "      <th>salary</th>\n",
       "    </tr>\n",
       "  </thead>\n",
       "  <tbody>\n",
       "    <tr>\n",
       "      <th>0</th>\n",
       "      <td>1</td>\n",
       "      <td>saina</td>\n",
       "      <td>20</td>\n",
       "      <td>f</td>\n",
       "      <td>ece</td>\n",
       "      <td>20000</td>\n",
       "    </tr>\n",
       "    <tr>\n",
       "      <th>1</th>\n",
       "      <td>2</td>\n",
       "      <td>john</td>\n",
       "      <td>25</td>\n",
       "      <td>m</td>\n",
       "      <td>cse</td>\n",
       "      <td>42000</td>\n",
       "    </tr>\n",
       "    <tr>\n",
       "      <th>2</th>\n",
       "      <td>3</td>\n",
       "      <td>peng</td>\n",
       "      <td>23</td>\n",
       "      <td>f</td>\n",
       "      <td>cse</td>\n",
       "      <td>45000</td>\n",
       "    </tr>\n",
       "    <tr>\n",
       "      <th>3</th>\n",
       "      <td>4</td>\n",
       "      <td>steve</td>\n",
       "      <td>25</td>\n",
       "      <td>m</td>\n",
       "      <td>eee</td>\n",
       "      <td>23450</td>\n",
       "    </tr>\n",
       "    <tr>\n",
       "      <th>4</th>\n",
       "      <td>5</td>\n",
       "      <td>jwala</td>\n",
       "      <td>19</td>\n",
       "      <td>f</td>\n",
       "      <td>ece</td>\n",
       "      <td>43000</td>\n",
       "    </tr>\n",
       "    <tr>\n",
       "      <th>5</th>\n",
       "      <td>6</td>\n",
       "      <td>naina</td>\n",
       "      <td>22</td>\n",
       "      <td>f</td>\n",
       "      <td>mech</td>\n",
       "      <td>21000</td>\n",
       "    </tr>\n",
       "    <tr>\n",
       "      <th>6</th>\n",
       "      <td>7</td>\n",
       "      <td>ved</td>\n",
       "      <td>45</td>\n",
       "      <td>m</td>\n",
       "      <td>metal</td>\n",
       "      <td>35000</td>\n",
       "    </tr>\n",
       "    <tr>\n",
       "      <th>7</th>\n",
       "      <td>8</td>\n",
       "      <td>shresta</td>\n",
       "      <td>30</td>\n",
       "      <td>f</td>\n",
       "      <td>mech</td>\n",
       "      <td>23000</td>\n",
       "    </tr>\n",
       "  </tbody>\n",
       "</table>\n",
       "</div>"
      ],
      "text/plain": [
       "   s.no     name  age gender   dept  salary\n",
       "0     1    saina   20      f    ece   20000\n",
       "1     2     john   25      m    cse   42000\n",
       "2     3     peng   23      f    cse   45000\n",
       "3     4    steve   25      m    eee   23450\n",
       "4     5    jwala   19      f    ece   43000\n",
       "5     6    naina   22      f   mech   21000\n",
       "6     7      ved   45      m  metal   35000\n",
       "7     8  shresta   30      f   mech   23000"
      ]
     },
     "execution_count": 2,
     "metadata": {},
     "output_type": "execute_result"
    }
   ],
   "source": [
    "import pandas as pd\n",
    "df=pd.read_csv(\"samples.csv\")\n",
    "df"
   ]
  },
  {
   "cell_type": "code",
   "execution_count": 7,
   "id": "1016449f",
   "metadata": {},
   "outputs": [
    {
     "name": "stdout",
     "output_type": "stream",
     "text": [
      "<pandas.core.groupby.generic.DataFrameGroupBy object at 0x000001A74D838F40>\n",
      "   s.no     name  age gender   dept  salary\n",
      "0     1    saina   20      f    ece   20000\n",
      "1     2     john   25      m    cse   42000\n",
      "2     3     peng   23      f    cse   45000\n",
      "3     4    steve   25      m    eee   23450\n",
      "4     5    jwala   19      f    ece   43000\n",
      "5     6    naina   22      f   mech   21000\n",
      "6     7      ved   45      m  metal   35000\n",
      "7     8  shresta   30      f   mech   23000\n"
     ]
    }
   ],
   "source": [
    "print(df.groupby([\"gender\"]))\n",
    "print(df)"
   ]
  },
  {
   "cell_type": "code",
   "execution_count": 12,
   "id": "c6ced7ff",
   "metadata": {},
   "outputs": [
    {
     "name": "stdout",
     "output_type": "stream",
     "text": [
      "{('f', 'cse'): [2], ('f', 'ece'): [0, 4], ('f', 'mech'): [5, 7], ('m', 'cse'): [1], ('m', 'eee'): [3], ('m', 'metal'): [6]}\n"
     ]
    }
   ],
   "source": [
    "a=df.groupby([\"gender\",\"dept\"])\n",
    "print(a.groups)"
   ]
  },
  {
   "cell_type": "code",
   "execution_count": 13,
   "id": "edf62781",
   "metadata": {},
   "outputs": [
    {
     "name": "stdout",
     "output_type": "stream",
     "text": [
      "       s.no     name  age gender  salary\n",
      "dept                                    \n",
      "cse       3     peng   25      m   45000\n",
      "ece       5    saina   20      f   43000\n",
      "eee       4    steve   25      m   23450\n",
      "mech      8  shresta   30      f   23000\n",
      "metal     7      ved   45      m   35000\n"
     ]
    }
   ],
   "source": [
    "print(df.groupby([\"dept\"]).max())"
   ]
  },
  {
   "cell_type": "code",
   "execution_count": 16,
   "id": "5bc9698c",
   "metadata": {},
   "outputs": [
    {
     "name": "stdout",
     "output_type": "stream",
     "text": [
      "        s.no     name  age   dept  salary\n",
      "gender                                   \n",
      "f          8  shresta   30   mech   45000\n",
      "m          7      ved   45  metal   42000\n"
     ]
    }
   ],
   "source": [
    "print(df.groupby([\"gender\"]).max())"
   ]
  },
  {
   "cell_type": "code",
   "execution_count": 18,
   "id": "dae964f9",
   "metadata": {},
   "outputs": [
    {
     "name": "stdout",
     "output_type": "stream",
     "text": [
      "{'cse': [1, 2], 'ece': [0, 4], 'eee': [3], 'mech': [5, 7], 'metal': [6]}\n"
     ]
    }
   ],
   "source": [
    "print(df.groupby([\"dept\"]).groups)"
   ]
  },
  {
   "cell_type": "code",
   "execution_count": 19,
   "id": "3ba69c96",
   "metadata": {},
   "outputs": [
    {
     "name": "stdout",
     "output_type": "stream",
     "text": [
      "{'f': [0, 2, 4, 5, 7], 'm': [1, 3, 6]}\n"
     ]
    }
   ],
   "source": [
    "print(df.groupby([\"gender\"]).groups)"
   ]
  },
  {
   "cell_type": "code",
   "execution_count": 21,
   "id": "9f78c01b",
   "metadata": {},
   "outputs": [
    {
     "name": "stdout",
     "output_type": "stream",
     "text": [
      "   s.no   name  age gender   dept  salary\n",
      "1     2   john   25      m    cse   42000\n",
      "3     4  steve   25      m    eee   23450\n",
      "6     7    ved   45      m  metal   35000\n"
     ]
    }
   ],
   "source": [
    "g=df.groupby([\"gender\"])\n",
    "print(g.get_group(\"m\"))"
   ]
  },
  {
   "cell_type": "code",
   "execution_count": 22,
   "id": "b5c99c05",
   "metadata": {},
   "outputs": [
    {
     "data": {
      "text/plain": [
       "<bound method IndexOpsMixin.value_counts of 0    f\n",
       "1    m\n",
       "2    f\n",
       "3    m\n",
       "4    f\n",
       "5    f\n",
       "6    m\n",
       "7    f\n",
       "Name: gender, dtype: object>"
      ]
     },
     "execution_count": 22,
     "metadata": {},
     "output_type": "execute_result"
    }
   ],
   "source": [
    "df[\"gender\"].value_counts"
   ]
  },
  {
   "cell_type": "code",
   "execution_count": 30,
   "id": "f53a6326",
   "metadata": {},
   "outputs": [
    {
     "name": "stdout",
     "output_type": "stream",
     "text": [
      "{('cse', 'f'): [2], ('cse', 'm'): [1], ('ece', 'f'): [0, 4], ('eee', 'm'): [3], ('mech', 'f'): [5, 7], ('metal', 'm'): [6]}\n"
     ]
    }
   ],
   "source": [
    "a=df.groupby([\"dept\",\"gender\"])\n",
    "print(a.groups)"
   ]
  },
  {
   "cell_type": "code",
   "execution_count": null,
   "id": "5ba00176",
   "metadata": {},
   "outputs": [],
   "source": []
  }
 ],
 "metadata": {
  "kernelspec": {
   "display_name": "Python 3 (ipykernel)",
   "language": "python",
   "name": "python3"
  },
  "language_info": {
   "codemirror_mode": {
    "name": "ipython",
    "version": 3
   },
   "file_extension": ".py",
   "mimetype": "text/x-python",
   "name": "python",
   "nbconvert_exporter": "python",
   "pygments_lexer": "ipython3",
   "version": "3.9.12"
  }
 },
 "nbformat": 4,
 "nbformat_minor": 5
}
