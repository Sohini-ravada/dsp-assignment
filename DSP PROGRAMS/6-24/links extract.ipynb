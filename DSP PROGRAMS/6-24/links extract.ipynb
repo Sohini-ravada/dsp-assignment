{
 "cells": [
  {
   "cell_type": "code",
   "execution_count": 2,
   "id": "135fe095",
   "metadata": {},
   "outputs": [
    {
     "ename": "SyntaxError",
     "evalue": "invalid syntax (3096506325.py, line 2)",
     "output_type": "error",
     "traceback": [
      "\u001b[1;36m  Input \u001b[1;32mIn [2]\u001b[1;36m\u001b[0m\n\u001b[1;33m    page=\"WELCOME <a href=\"https://www.yahoo.com\">HELLO HOW R U\"\u001b[0m\n\u001b[1;37m                           ^\u001b[0m\n\u001b[1;31mSyntaxError\u001b[0m\u001b[1;31m:\u001b[0m invalid syntax\n"
     ]
    }
   ],
   "source": [
    "import re\n",
    "page=\"WELCOME.<a href=\"https://www.yahoo.com\">HELLO HOW R U\"\n",
    "print(page)\n",
    "def geturl(page):\n",
    "    start_link=page.find(\"<a href\")\n",
    "    start_quote=page.find('\"',start_quote)\n",
    "    end_quote=page.find('\"',start_quote+1)\n",
    "    URL=page[start_quote+1:end_quote]\n",
    "    return URL\n",
    "URL=get URL(Page)\n",
    "print(\"**********LINK**********\")\n",
    "print(URL)\n"
   ]
  },
  {
   "cell_type": "code",
   "execution_count": 22,
   "id": "f9cd5828",
   "metadata": {},
   "outputs": [
    {
     "ename": "SyntaxError",
     "evalue": "invalid syntax (2060473199.py, line 6)",
     "output_type": "error",
     "traceback": [
      "\u001b[1;36m  Input \u001b[1;32mIn [22]\u001b[1;36m\u001b[0m\n\u001b[1;33m    def.get url(page)\u001b[0m\n\u001b[1;37m       ^\u001b[0m\n\u001b[1;31mSyntaxError\u001b[0m\u001b[1;31m:\u001b[0m invalid syntax\n"
     ]
    }
   ],
   "source": [
    "import urlib.request\n",
    "url='https://www.google.com/'\n",
    "resp=urlib.request.urlopen(url)\n",
    "page1=resp.read()\n",
    "page=str(page)\n",
    "def.get url(page)\n",
    "start_link=page.find(\"<a href\")\n",
    "start_quote=page.find('\"',start_link)\n",
    "end_quote=page.find('\"',start_quote+1)\n",
    "url=page.find['\"',start_quote+1;end_quote]\n",
    "return url,end quote\n",
    "while true:\n",
    "    url,n=get url(page)\n",
    "    page=page[n:]\n",
    "    if url:\n",
    "        print(url)\n",
    "   else:\n",
    "            break\n",
    "\n"
   ]
  },
  {
   "cell_type": "code",
   "execution_count": null,
   "id": "8f74a4a9",
   "metadata": {},
   "outputs": [],
   "source": []
  },
  {
   "cell_type": "code",
   "execution_count": null,
   "id": "03fdd1cb",
   "metadata": {},
   "outputs": [],
   "source": []
  }
 ],
 "metadata": {
  "kernelspec": {
   "display_name": "Python 3 (ipykernel)",
   "language": "python",
   "name": "python3"
  },
  "language_info": {
   "codemirror_mode": {
    "name": "ipython",
    "version": 3
   },
   "file_extension": ".py",
   "mimetype": "text/x-python",
   "name": "python",
   "nbconvert_exporter": "python",
   "pygments_lexer": "ipython3",
   "version": "3.9.12"
  }
 },
 "nbformat": 4,
 "nbformat_minor": 5
}
