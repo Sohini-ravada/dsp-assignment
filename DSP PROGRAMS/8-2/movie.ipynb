{
 "cells": [
  {
   "cell_type": "code",
   "execution_count": 1,
   "id": "76c3ab38",
   "metadata": {},
   "outputs": [],
   "source": [
    "import pandas as pd\n",
    "df=pd.read_excel(\"movie.xlsx\")"
   ]
  },
  {
   "cell_type": "code",
   "execution_count": 2,
   "id": "21773138",
   "metadata": {},
   "outputs": [
    {
     "data": {
      "text/html": [
       "<div>\n",
       "<style scoped>\n",
       "    .dataframe tbody tr th:only-of-type {\n",
       "        vertical-align: middle;\n",
       "    }\n",
       "\n",
       "    .dataframe tbody tr th {\n",
       "        vertical-align: top;\n",
       "    }\n",
       "\n",
       "    .dataframe thead th {\n",
       "        text-align: right;\n",
       "    }\n",
       "</style>\n",
       "<table border=\"1\" class=\"dataframe\">\n",
       "  <thead>\n",
       "    <tr style=\"text-align: right;\">\n",
       "      <th></th>\n",
       "      <th>SlNo</th>\n",
       "      <th>Release Date</th>\n",
       "      <th>MovieName</th>\n",
       "      <th>ReleaseTime</th>\n",
       "      <th>Genre</th>\n",
       "      <th>Budget</th>\n",
       "      <th>BoxOfficeCollection</th>\n",
       "      <th>YoutubeViews</th>\n",
       "      <th>YoutubeLikes</th>\n",
       "      <th>YoutubeDislikes</th>\n",
       "    </tr>\n",
       "  </thead>\n",
       "  <tbody>\n",
       "    <tr>\n",
       "      <th>0</th>\n",
       "      <td>1.0</td>\n",
       "      <td>2014-04-18</td>\n",
       "      <td>2 States</td>\n",
       "      <td>LW</td>\n",
       "      <td>Romance</td>\n",
       "      <td>36.0</td>\n",
       "      <td>104.00</td>\n",
       "      <td>8576361.0</td>\n",
       "      <td>26622.0</td>\n",
       "      <td>2527.0</td>\n",
       "    </tr>\n",
       "    <tr>\n",
       "      <th>1</th>\n",
       "      <td>2.0</td>\n",
       "      <td>2013-01-04</td>\n",
       "      <td>Table No. 21</td>\n",
       "      <td>N</td>\n",
       "      <td>Thriller</td>\n",
       "      <td>10.0</td>\n",
       "      <td>12.00</td>\n",
       "      <td>1087320.0</td>\n",
       "      <td>1129.0</td>\n",
       "      <td>137.0</td>\n",
       "    </tr>\n",
       "    <tr>\n",
       "      <th>2</th>\n",
       "      <td>3.0</td>\n",
       "      <td>2014-07-18</td>\n",
       "      <td>Amit Sahni Ki List</td>\n",
       "      <td>N</td>\n",
       "      <td>Comedy</td>\n",
       "      <td>10.0</td>\n",
       "      <td>4.00</td>\n",
       "      <td>572336.0</td>\n",
       "      <td>586.0</td>\n",
       "      <td>54.0</td>\n",
       "    </tr>\n",
       "    <tr>\n",
       "      <th>3</th>\n",
       "      <td>4.0</td>\n",
       "      <td>2013-01-04</td>\n",
       "      <td>Rajdhani Express</td>\n",
       "      <td>N</td>\n",
       "      <td>Drama</td>\n",
       "      <td>7.0</td>\n",
       "      <td>0.35</td>\n",
       "      <td>42626.0</td>\n",
       "      <td>86.0</td>\n",
       "      <td>19.0</td>\n",
       "    </tr>\n",
       "    <tr>\n",
       "      <th>4</th>\n",
       "      <td>5.0</td>\n",
       "      <td>2014-07-04</td>\n",
       "      <td>Bobby Jasoos</td>\n",
       "      <td>N</td>\n",
       "      <td>Comedy</td>\n",
       "      <td>18.0</td>\n",
       "      <td>10.80</td>\n",
       "      <td>3113427.0</td>\n",
       "      <td>4512.0</td>\n",
       "      <td>1224.0</td>\n",
       "    </tr>\n",
       "    <tr>\n",
       "      <th>...</th>\n",
       "      <td>...</td>\n",
       "      <td>...</td>\n",
       "      <td>...</td>\n",
       "      <td>...</td>\n",
       "      <td>...</td>\n",
       "      <td>...</td>\n",
       "      <td>...</td>\n",
       "      <td>...</td>\n",
       "      <td>...</td>\n",
       "      <td>...</td>\n",
       "    </tr>\n",
       "    <tr>\n",
       "      <th>144</th>\n",
       "      <td>145.0</td>\n",
       "      <td>2015-02-27</td>\n",
       "      <td>Dum Laga Ke Haisha</td>\n",
       "      <td>N</td>\n",
       "      <td>Comedy</td>\n",
       "      <td>15.0</td>\n",
       "      <td>30.00</td>\n",
       "      <td>3250917.0</td>\n",
       "      <td>8185.0</td>\n",
       "      <td>615.0</td>\n",
       "    </tr>\n",
       "    <tr>\n",
       "      <th>145</th>\n",
       "      <td>146.0</td>\n",
       "      <td>2015-03-13</td>\n",
       "      <td>NH10</td>\n",
       "      <td>N</td>\n",
       "      <td>Thriller</td>\n",
       "      <td>13.0</td>\n",
       "      <td>32.10</td>\n",
       "      <td>5592977.0</td>\n",
       "      <td>15464.0</td>\n",
       "      <td>1513.0</td>\n",
       "    </tr>\n",
       "    <tr>\n",
       "      <th>146</th>\n",
       "      <td>147.0</td>\n",
       "      <td>2015-03-20</td>\n",
       "      <td>Dilliwali Zaalim Girlfriend</td>\n",
       "      <td>N</td>\n",
       "      <td>Comedy</td>\n",
       "      <td>32.0</td>\n",
       "      <td>12.00</td>\n",
       "      <td>2316047.0</td>\n",
       "      <td>4289.0</td>\n",
       "      <td>807.0</td>\n",
       "    </tr>\n",
       "    <tr>\n",
       "      <th>147</th>\n",
       "      <td>148.0</td>\n",
       "      <td>2015-03-20</td>\n",
       "      <td>Hunterrr</td>\n",
       "      <td>N</td>\n",
       "      <td>Comedy</td>\n",
       "      <td>5.0</td>\n",
       "      <td>11.89</td>\n",
       "      <td>4674795.0</td>\n",
       "      <td>3706.0</td>\n",
       "      <td>762.0</td>\n",
       "    </tr>\n",
       "    <tr>\n",
       "      <th>148</th>\n",
       "      <td>149.0</td>\n",
       "      <td>2014-05-23</td>\n",
       "      <td>Kochadaiiyaan</td>\n",
       "      <td>HS</td>\n",
       "      <td>Action</td>\n",
       "      <td>150.0</td>\n",
       "      <td>120.00</td>\n",
       "      <td>4740727.0</td>\n",
       "      <td>13466.0</td>\n",
       "      <td>2649.0</td>\n",
       "    </tr>\n",
       "  </tbody>\n",
       "</table>\n",
       "<p>149 rows × 10 columns</p>\n",
       "</div>"
      ],
      "text/plain": [
       "      SlNo Release Date                    MovieName ReleaseTime     Genre  \\\n",
       "0      1.0   2014-04-18                     2 States          LW   Romance   \n",
       "1      2.0   2013-01-04                 Table No. 21           N  Thriller   \n",
       "2      3.0   2014-07-18           Amit Sahni Ki List           N    Comedy   \n",
       "3      4.0   2013-01-04             Rajdhani Express           N     Drama   \n",
       "4      5.0   2014-07-04                 Bobby Jasoos           N    Comedy   \n",
       "..     ...          ...                          ...         ...       ...   \n",
       "144  145.0   2015-02-27           Dum Laga Ke Haisha           N    Comedy   \n",
       "145  146.0   2015-03-13                         NH10           N  Thriller   \n",
       "146  147.0   2015-03-20  Dilliwali Zaalim Girlfriend           N    Comedy   \n",
       "147  148.0   2015-03-20                     Hunterrr           N    Comedy   \n",
       "148  149.0   2014-05-23                Kochadaiiyaan          HS    Action   \n",
       "\n",
       "     Budget  BoxOfficeCollection  YoutubeViews  YoutubeLikes  YoutubeDislikes  \n",
       "0      36.0               104.00     8576361.0       26622.0           2527.0  \n",
       "1      10.0                12.00     1087320.0        1129.0            137.0  \n",
       "2      10.0                 4.00      572336.0         586.0             54.0  \n",
       "3       7.0                 0.35       42626.0          86.0             19.0  \n",
       "4      18.0                10.80     3113427.0        4512.0           1224.0  \n",
       "..      ...                  ...           ...           ...              ...  \n",
       "144    15.0                30.00     3250917.0        8185.0            615.0  \n",
       "145    13.0                32.10     5592977.0       15464.0           1513.0  \n",
       "146    32.0                12.00     2316047.0        4289.0            807.0  \n",
       "147     5.0                11.89     4674795.0        3706.0            762.0  \n",
       "148   150.0               120.00     4740727.0       13466.0           2649.0  \n",
       "\n",
       "[149 rows x 10 columns]"
      ]
     },
     "execution_count": 2,
     "metadata": {},
     "output_type": "execute_result"
    }
   ],
   "source": [
    "df"
   ]
  },
  {
   "cell_type": "code",
   "execution_count": 11,
   "id": "06f7da5e",
   "metadata": {},
   "outputs": [
    {
     "data": {
      "text/plain": [
       "SlNo                          float64\n",
       "Release Date           datetime64[ns]\n",
       "MovieName                      object\n",
       "ReleaseTime                    object\n",
       "Genre                          object\n",
       "Budget                        float64\n",
       "BoxOfficeCollection           float64\n",
       "YoutubeViews                  float64\n",
       "YoutubeLikes                  float64\n",
       "YoutubeDislikes               float64\n",
       "dtype: object"
      ]
     },
     "execution_count": 11,
     "metadata": {},
     "output_type": "execute_result"
    }
   ],
   "source": [
    "\n",
    "df.dtypes"
   ]
  },
  {
   "cell_type": "code",
   "execution_count": 27,
   "id": "232b3c78",
   "metadata": {},
   "outputs": [
    {
     "data": {
      "text/plain": [
       "0      8576361.0\n",
       "1      1087320.0\n",
       "2       572336.0\n",
       "3        42626.0\n",
       "4      3113427.0\n",
       "         ...    \n",
       "144    3250917.0\n",
       "145    5592977.0\n",
       "146    2316047.0\n",
       "147    4674795.0\n",
       "148    4740727.0\n",
       "Name: YoutubeViews, Length: 149, dtype: float64"
      ]
     },
     "execution_count": 27,
     "metadata": {},
     "output_type": "execute_result"
    }
   ],
   "source": [
    "df[\"YoutubeViews\"]"
   ]
  },
  {
   "cell_type": "code",
   "execution_count": 33,
   "id": "c078da01",
   "metadata": {},
   "outputs": [
    {
     "name": "stdout",
     "output_type": "stream",
     "text": [
      "               SlNo Release Date            MovieName ReleaseTime     Genre  \\\n",
      "YoutubeViews                                                                  \n",
      "4354.0         10.0   2013-01-11            Gangoobai           N     Drama   \n",
      "5142.0        132.0   2013-09-06  Shuddh Desi Romance          LW   Romance   \n",
      "23186.0       127.0   2013-10-11        Baat Ban Gayi          FS    Comedy   \n",
      "28391.0        16.0   2013-01-18              Bandook           N    Action   \n",
      "40450.0       126.0   2013-10-11    War Chhod Na Yaar          FS    Comedy   \n",
      "...             ...          ...                  ...         ...       ...   \n",
      "13279636.0     92.0   2014-12-05       Action Jackson           N    Action   \n",
      "13798789.0     29.0   2014-07-18         Hate Story 2           N  Thriller   \n",
      "15889811.0     93.0   2014-10-02            Bang Bang          FS    Action   \n",
      "18986221.0     44.0   2014-07-25                 Kick           N    Action   \n",
      "23171067.0    120.0   2013-11-01             Krrish 3          FS    Action   \n",
      "\n",
      "              Budget  BoxOfficeCollection  YoutubeLikes  YoutubeDislikes  \n",
      "YoutubeViews                                                              \n",
      "4354.0           2.0                 0.01           1.0              1.0  \n",
      "5142.0          25.0                55.00           1.0              1.0  \n",
      "23186.0          4.0                 1.50           9.0              4.0  \n",
      "28391.0          4.0                 0.09           8.0             14.0  \n",
      "40450.0         14.0                 7.50          33.0              7.0  \n",
      "...              ...                  ...           ...              ...  \n",
      "13279636.0      90.0                57.45       19240.0           3859.0  \n",
      "13798789.0      12.0                27.16       15708.0           5226.0  \n",
      "15889811.0     140.0               340.00       61805.0           6283.0  \n",
      "18986221.0     100.0               377.00      101275.0          10066.0  \n",
      "23171067.0     115.0               300.00       72070.0          11888.0  \n",
      "\n",
      "[149 rows x 9 columns]\n"
     ]
    }
   ],
   "source": [
    "print(df.groupby([\"MovieName\"]).max())"
   ]
  },
  {
   "cell_type": "code",
   "execution_count": 43,
   "id": "3617340c",
   "metadata": {},
   "outputs": [
    {
     "ename": "TypeError",
     "evalue": "pie() missing 1 required positional argument: 'x'",
     "output_type": "error",
     "traceback": [
      "\u001b[1;31m---------------------------------------------------------------------------\u001b[0m",
      "\u001b[1;31mTypeError\u001b[0m                                 Traceback (most recent call last)",
      "Input \u001b[1;32mIn [43]\u001b[0m, in \u001b[0;36m<cell line: 8>\u001b[1;34m()\u001b[0m\n\u001b[0;32m      6\u001b[0m xpoints\u001b[38;5;241m=\u001b[39mnp\u001b[38;5;241m.\u001b[39marray([\u001b[38;5;124m\"\u001b[39m\u001b[38;5;124mBoxOfficeCollection\u001b[39m\u001b[38;5;124m\"\u001b[39m])\n\u001b[0;32m      7\u001b[0m ypoints\u001b[38;5;241m=\u001b[39mnp\u001b[38;5;241m.\u001b[39marray([\u001b[38;5;124m\"\u001b[39m\u001b[38;5;124m YoutubeViews\u001b[39m\u001b[38;5;124m\"\u001b[39m])\n\u001b[1;32m----> 8\u001b[0m \u001b[43mplt\u001b[49m\u001b[38;5;241;43m.\u001b[39;49m\u001b[43mpie\u001b[49m\u001b[43m(\u001b[49m\u001b[43m)\u001b[49m\n\u001b[0;32m      9\u001b[0m plt\u001b[38;5;241m.\u001b[39mshow\n",
      "\u001b[1;31mTypeError\u001b[0m: pie() missing 1 required positional argument: 'x'"
     ]
    },
    {
     "data": {
      "image/png": "[encoded data removed]",
      "text/plain": [
       "<Figure size 432x288 with 1 Axes>"
      ]
     },
     "metadata": {
      "needs_background": "light"
     },
     "output_type": "display_data"
    }
   ],
   "source": [
    "import matplotlib.pyplot as plt\n",
    "import numpy as np\n",
    "plt.title(\"BoxOfficeCollection vs YoutubeViews \")\n",
    "plt.xlabel(\"x-axis\")\n",
    "plt.ylabel(\"y-axis\")\n",
    "xpoints=np.array([\"BoxOfficeCollection\"])\n",
    "ypoints=np.array([\" YoutubeViews\"])\n",
    "plt.pie()\n",
    "plt.show"
   ]
  },
  {
   "cell_type": "code",
   "execution_count": null,
   "id": "54d0bd5f",
   "metadata": {},
   "outputs": [],
   "source": []
  }
 ],
 "metadata": {
  "kernelspec": {
   "display_name": "Python 3 (ipykernel)",
   "language": "python",
   "name": "python3"
  },
  "language_info": {
   "codemirror_mode": {
    "name": "ipython",
    "version": 3
   },
   "file_extension": ".py",
   "mimetype": "text/x-python",
   "name": "python",
   "nbconvert_exporter": "python",
   "pygments_lexer": "ipython3",
   "version": "3.9.12"
  }
 },
 "nbformat": 4,
 "nbformat_minor": 5
}
