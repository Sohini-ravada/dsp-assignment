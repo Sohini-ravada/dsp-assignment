{
 "cells": [
  {
   "cell_type": "code",
   "execution_count": 1,
   "id": "f2a55ce4",
   "metadata": {},
   "outputs": [
    {
     "name": "stdout",
     "output_type": "stream",
     "text": [
      "4.4\n",
      "4.0\n",
      "0    1\n",
      "1    3\n",
      "2    4\n",
      "3    5\n",
      "4    9\n",
      "dtype: int64\n",
      "2.9664793948382653\n",
      "8.8\n"
     ]
    }
   ],
   "source": [
    "import pandas as pd\n",
    "p1=pd.Series([1,3,5,4,9])\n",
    "p2=pd.Series([3,9,56,0,3,74])\n",
    "p3=pd.Series([1,32,4,55,67,16])\n",
    "p4=pd.Series([1,2,3,4,5,6])\n",
    "p5=pd.Series([7,8,9,0])\n",
    "p6=pd.Series([12,13,14,15,16])\n",
    "p7=pd.Series([10,21,23,24,25])\n",
    "p8=pd.Series([91,32,4,5,6,7])\n",
    "print(p1.mean())\n",
    "print(p1.median())\n",
    "print(p1.mode())\n",
    "print(p1.std())\n",
    "print(p1.var())"
   ]
  },
  {
   "cell_type": "code",
   "execution_count": 2,
   "id": "cad0e8f9",
   "metadata": {},
   "outputs": [
    {
     "name": "stdout",
     "output_type": "stream",
     "text": [
      "24.166666666666668\n",
      "6.0\n",
      "0    3\n",
      "dtype: int64\n",
      "32.27021330370573\n",
      "1041.3666666666666\n"
     ]
    }
   ],
   "source": [
    "print(p2.mean())\n",
    "print(p2.median())\n",
    "print(p2.mode())\n",
    "print(p2.std())\n",
    "print(p2.var())"
   ]
  },
  {
   "cell_type": "code",
   "execution_count": 4,
   "id": "2dbdafa2",
   "metadata": {},
   "outputs": [
    {
     "name": "stdout",
     "output_type": "stream",
     "text": [
      "29.166666666666668\n",
      "24.0\n",
      "0     1\n",
      "1     4\n",
      "2    16\n",
      "3    32\n",
      "4    55\n",
      "5    67\n",
      "dtype: int64\n",
      "27.228049262968998\n",
      "741.3666666666667\n"
     ]
    }
   ],
   "source": [
    "print(p3.mean())\n",
    "print(p3.median())\n",
    "print(p3.mode())\n",
    "print(p3.std())\n",
    "print(p3.var())"
   ]
  },
  {
   "cell_type": "code",
   "execution_count": 5,
   "id": "7e7f6de4",
   "metadata": {},
   "outputs": [
    {
     "name": "stdout",
     "output_type": "stream",
     "text": [
      "3.5\n",
      "3.5\n",
      "0    1\n",
      "1    2\n",
      "2    3\n",
      "3    4\n",
      "4    5\n",
      "5    6\n",
      "dtype: int64\n",
      "1.8708286933869707\n",
      "3.5\n"
     ]
    }
   ],
   "source": [
    "print(p4.mean())\n",
    "print(p4.median())\n",
    "print(p4.mode())\n",
    "print(p4.std())\n",
    "print(p4.var())"
   ]
  },
  {
   "cell_type": "code",
   "execution_count": 6,
   "id": "486fabbe",
   "metadata": {},
   "outputs": [
    {
     "name": "stdout",
     "output_type": "stream",
     "text": [
      "6.0\n",
      "7.5\n",
      "0    0\n",
      "1    7\n",
      "2    8\n",
      "3    9\n",
      "dtype: int64\n",
      "4.08248290463863\n",
      "16.666666666666668\n"
     ]
    }
   ],
   "source": [
    "print(p5.mean())\n",
    "print(p5.median())\n",
    "print(p5.mode())\n",
    "print(p5.std())\n",
    "print(p5.var())"
   ]
  },
  {
   "cell_type": "code",
   "execution_count": 7,
   "id": "41eee161",
   "metadata": {},
   "outputs": [
    {
     "name": "stdout",
     "output_type": "stream",
     "text": [
      "14.0\n",
      "14.0\n",
      "0    12\n",
      "1    13\n",
      "2    14\n",
      "3    15\n",
      "4    16\n",
      "dtype: int64\n",
      "1.5811388300841898\n",
      "2.5\n"
     ]
    }
   ],
   "source": [
    "print(p6.mean())\n",
    "print(p6.median())\n",
    "print(p6.mode())\n",
    "print(p6.std())\n",
    "print(p6.var())"
   ]
  },
  {
   "cell_type": "code",
   "execution_count": 8,
   "id": "c0e57ea5",
   "metadata": {},
   "outputs": [
    {
     "name": "stdout",
     "output_type": "stream",
     "text": [
      "20.6\n",
      "23.0\n",
      "0    10\n",
      "1    21\n",
      "2    23\n",
      "3    24\n",
      "4    25\n",
      "dtype: int64\n",
      "6.107372593840988\n",
      "37.3\n"
     ]
    }
   ],
   "source": [
    "print(p7.mean())\n",
    "print(p7.median())\n",
    "print(p7.mode())\n",
    "print(p7.std())\n",
    "print(p7.var())"
   ]
  },
  {
   "cell_type": "code",
   "execution_count": 9,
   "id": "8ee134d0",
   "metadata": {},
   "outputs": [
    {
     "name": "stdout",
     "output_type": "stream",
     "text": [
      "24.166666666666668\n",
      "6.5\n",
      "0     4\n",
      "1     5\n",
      "2     6\n",
      "3     7\n",
      "4    32\n",
      "5    91\n",
      "dtype: int64\n",
      "34.42915431239441\n",
      "1185.3666666666666\n"
     ]
    }
   ],
   "source": [
    "print(p8.mean())\n",
    "print(p8.median())\n",
    "print(p8.mode())\n",
    "print(p8.std())\n",
    "print(p8.var())"
   ]
  },
  {
   "cell_type": "code",
   "execution_count": 55,
   "id": "c09e1a4e",
   "metadata": {},
   "outputs": [
    {
     "data": {
      "image/png": "[encoded data removed]",
      "text/plain": [
       "<Figure size 432x288 with 1 Axes>"
      ]
     },
     "metadata": {},
     "output_type": "display_data"
    }
   ],
   "source": [
    "import matplotlib.pyplot as plt\n",
    "import numpy as np\n",
    "s=np.array([4.4,24.1,29.4,3.5,6.0,14.0,20.6,21.4])\n",
    "co=['r','b','green','hotpink','blue','skyblue','pink','gray']\n",
    "plt.pie(s,colors=co, labels=['p1','p2','p3','p4','p5','p6','p7','p8'])\n",
    "plt.legend(title=\"means\")\n",
    "plt.pie(s)\n",
    "plt.show()\n",
    "                               "
   ]
  },
  {
   "cell_type": "code",
   "execution_count": 20,
   "id": "75174521",
   "metadata": {
    "scrolled": true
   },
   "outputs": [
    {
     "name": "stderr",
     "output_type": "stream",
     "text": [
      "No artists with labels found to put in legend.  Note that artists whose label start with an underscore are ignored when legend() is called with no argument.\n"
     ]
    },
    {
     "ename": "TypeError",
     "evalue": "__init__() got an unexpected keyword argument 'color'",
     "output_type": "error",
     "traceback": [
      "\u001b[1;31m---------------------------------------------------------------------------\u001b[0m",
      "\u001b[1;31mTypeError\u001b[0m                                 Traceback (most recent call last)",
      "Input \u001b[1;32mIn [20]\u001b[0m, in \u001b[0;36m<cell line: 4>\u001b[1;34m()\u001b[0m\n\u001b[0;32m      2\u001b[0m \u001b[38;5;28;01mimport\u001b[39;00m \u001b[38;5;21;01mnumpy\u001b[39;00m \u001b[38;5;28;01mas\u001b[39;00m \u001b[38;5;21;01mnp\u001b[39;00m\n\u001b[0;32m      3\u001b[0m mean\u001b[38;5;241m=\u001b[39mnp\u001b[38;5;241m.\u001b[39marray([\u001b[38;5;241m4.4\u001b[39m,\u001b[38;5;241m24.1\u001b[39m,\u001b[38;5;241m29.4\u001b[39m,\u001b[38;5;241m3.5\u001b[39m,\u001b[38;5;241m6.0\u001b[39m,\u001b[38;5;241m14.0\u001b[39m,\u001b[38;5;241m20.6\u001b[39m,\u001b[38;5;241m21.4\u001b[39m])\n\u001b[1;32m----> 4\u001b[0m \u001b[43mplt\u001b[49m\u001b[38;5;241;43m.\u001b[39;49m\u001b[43mlegend\u001b[49m\u001b[43m(\u001b[49m\u001b[43mtitle\u001b[49m\u001b[38;5;241;43m=\u001b[39;49m\u001b[38;5;124;43m\"\u001b[39;49m\u001b[38;5;124;43mpopulation\u001b[39;49m\u001b[38;5;124;43m\"\u001b[39;49m\u001b[43m,\u001b[49m\u001b[43mcolor\u001b[49m\u001b[38;5;241;43m=\u001b[39;49m\u001b[38;5;124;43m\"\u001b[39;49m\u001b[38;5;124;43mviolet\u001b[39;49m\u001b[38;5;124;43m\"\u001b[39;49m\u001b[43m)\u001b[49m\n\u001b[0;32m      5\u001b[0m plt\u001b[38;5;241m.\u001b[39mylabel(\u001b[38;5;124m'\u001b[39m\u001b[38;5;124mmean\u001b[39m\u001b[38;5;124m'\u001b[39m)\n\u001b[0;32m      6\u001b[0m plt\u001b[38;5;241m.\u001b[39mbar(mean,color\u001b[38;5;241m=\u001b[39m\u001b[38;5;124m\"\u001b[39m\u001b[38;5;124mhot pink\u001b[39m\u001b[38;5;124m\"\u001b[39m)\n",
      "File \u001b[1;32mF:\\Users\\sohiniprasad\\anaconda3\\lib\\site-packages\\matplotlib\\pyplot.py:2655\u001b[0m, in \u001b[0;36mlegend\u001b[1;34m(*args, **kwargs)\u001b[0m\n\u001b[0;32m   2653\u001b[0m \u001b[38;5;129m@_copy_docstring_and_deprecators\u001b[39m(Axes\u001b[38;5;241m.\u001b[39mlegend)\n\u001b[0;32m   2654\u001b[0m \u001b[38;5;28;01mdef\u001b[39;00m \u001b[38;5;21mlegend\u001b[39m(\u001b[38;5;241m*\u001b[39margs, \u001b[38;5;241m*\u001b[39m\u001b[38;5;241m*\u001b[39mkwargs):\n\u001b[1;32m-> 2655\u001b[0m     \u001b[38;5;28;01mreturn\u001b[39;00m gca()\u001b[38;5;241m.\u001b[39mlegend(\u001b[38;5;241m*\u001b[39margs, \u001b[38;5;241m*\u001b[39m\u001b[38;5;241m*\u001b[39mkwargs)\n",
      "File \u001b[1;32mF:\\Users\\sohiniprasad\\anaconda3\\lib\\site-packages\\matplotlib\\axes\\_axes.py:305\u001b[0m, in \u001b[0;36mAxes.legend\u001b[1;34m(self, *args, **kwargs)\u001b[0m\n\u001b[0;32m    303\u001b[0m \u001b[38;5;28;01mif\u001b[39;00m \u001b[38;5;28mlen\u001b[39m(extra_args):\n\u001b[0;32m    304\u001b[0m     \u001b[38;5;28;01mraise\u001b[39;00m \u001b[38;5;167;01mTypeError\u001b[39;00m(\u001b[38;5;124m'\u001b[39m\u001b[38;5;124mlegend only accepts two non-keyword arguments\u001b[39m\u001b[38;5;124m'\u001b[39m)\n\u001b[1;32m--> 305\u001b[0m \u001b[38;5;28mself\u001b[39m\u001b[38;5;241m.\u001b[39mlegend_ \u001b[38;5;241m=\u001b[39m mlegend\u001b[38;5;241m.\u001b[39mLegend(\u001b[38;5;28mself\u001b[39m, handles, labels, \u001b[38;5;241m*\u001b[39m\u001b[38;5;241m*\u001b[39mkwargs)\n\u001b[0;32m    306\u001b[0m \u001b[38;5;28mself\u001b[39m\u001b[38;5;241m.\u001b[39mlegend_\u001b[38;5;241m.\u001b[39m_remove_method \u001b[38;5;241m=\u001b[39m \u001b[38;5;28mself\u001b[39m\u001b[38;5;241m.\u001b[39m_remove_legend\n\u001b[0;32m    307\u001b[0m \u001b[38;5;28;01mreturn\u001b[39;00m \u001b[38;5;28mself\u001b[39m\u001b[38;5;241m.\u001b[39mlegend_\n",
      "\u001b[1;31mTypeError\u001b[0m: __init__() got an unexpected keyword argument 'color'"
     ]
    },
    {
     "data": {
      "image/png": "[encoded data removed]",
      "text/plain": [
       "<Figure size 432x288 with 1 Axes>"
      ]
     },
     "metadata": {
      "needs_background": "light"
     },
     "output_type": "display_data"
    }
   ],
   "source": [
    "import matplotlib.pyplot as plt\n",
    "import numpy as np\n",
    "mean=np.array([4.4,24.1,29.4,3.5,6.0,14.0,20.6,21.4])\n",
    "plt.legend(title=\"population\",color=\"violet\")\n",
    "plt.ylabel('mean')\n",
    "plt.bar(mean,color=\"hot pink\")\n",
    "plt.show()\n",
    "           "
   ]
  },
  {
   "cell_type": "code",
   "execution_count": 16,
   "id": "fb004ff8",
   "metadata": {},
   "outputs": [
    {
     "ename": "ValueError",
     "evalue": "'label' must be of length 'x'",
     "output_type": "error",
     "traceback": [
      "\u001b[1;31m---------------------------------------------------------------------------\u001b[0m",
      "\u001b[1;31mValueError\u001b[0m                                Traceback (most recent call last)",
      "Input \u001b[1;32mIn [16]\u001b[0m, in \u001b[0;36m<cell line: 5>\u001b[1;34m()\u001b[0m\n\u001b[0;32m      3\u001b[0m s\u001b[38;5;241m=\u001b[39mnp\u001b[38;5;241m.\u001b[39marray([])\n\u001b[0;32m      4\u001b[0m co\u001b[38;5;241m=\u001b[39m[\u001b[38;5;124m'\u001b[39m\u001b[38;5;124mr\u001b[39m\u001b[38;5;124m'\u001b[39m,\u001b[38;5;124m'\u001b[39m\u001b[38;5;124mb\u001b[39m\u001b[38;5;124m'\u001b[39m,\u001b[38;5;124m'\u001b[39m\u001b[38;5;124mgreen\u001b[39m\u001b[38;5;124m'\u001b[39m,\u001b[38;5;124m'\u001b[39m\u001b[38;5;124mhotpink\u001b[39m\u001b[38;5;124m'\u001b[39m,\u001b[38;5;124m'\u001b[39m\u001b[38;5;124mblue\u001b[39m\u001b[38;5;124m'\u001b[39m,\u001b[38;5;124m'\u001b[39m\u001b[38;5;124mskyblue\u001b[39m\u001b[38;5;124m'\u001b[39m,\u001b[38;5;124m'\u001b[39m\u001b[38;5;124mpink\u001b[39m\u001b[38;5;124m'\u001b[39m,\u001b[38;5;124m'\u001b[39m\u001b[38;5;124mgray\u001b[39m\u001b[38;5;124m'\u001b[39m]\n\u001b[1;32m----> 5\u001b[0m \u001b[43mplt\u001b[49m\u001b[38;5;241;43m.\u001b[39;49m\u001b[43mpie\u001b[49m\u001b[43m(\u001b[49m\u001b[43ms\u001b[49m\u001b[43m,\u001b[49m\u001b[43mcolors\u001b[49m\u001b[38;5;241;43m=\u001b[39;49m\u001b[43mco\u001b[49m\u001b[43m,\u001b[49m\u001b[43m \u001b[49m\u001b[43mlabels\u001b[49m\u001b[38;5;241;43m=\u001b[39;49m\u001b[43m[\u001b[49m\u001b[38;5;124;43m'\u001b[39;49m\u001b[38;5;124;43mp1\u001b[39;49m\u001b[38;5;124;43m'\u001b[39;49m\u001b[43m,\u001b[49m\u001b[38;5;124;43m'\u001b[39;49m\u001b[38;5;124;43mp2\u001b[39;49m\u001b[38;5;124;43m'\u001b[39;49m\u001b[43m,\u001b[49m\u001b[38;5;124;43m'\u001b[39;49m\u001b[38;5;124;43mp3\u001b[39;49m\u001b[38;5;124;43m'\u001b[39;49m\u001b[43m,\u001b[49m\u001b[38;5;124;43m'\u001b[39;49m\u001b[38;5;124;43mp4\u001b[39;49m\u001b[38;5;124;43m'\u001b[39;49m\u001b[43m,\u001b[49m\u001b[38;5;124;43m'\u001b[39;49m\u001b[38;5;124;43mp5\u001b[39;49m\u001b[38;5;124;43m'\u001b[39;49m\u001b[43m,\u001b[49m\u001b[38;5;124;43m'\u001b[39;49m\u001b[38;5;124;43mp6\u001b[39;49m\u001b[38;5;124;43m'\u001b[39;49m\u001b[43m,\u001b[49m\u001b[38;5;124;43m'\u001b[39;49m\u001b[38;5;124;43mp7\u001b[39;49m\u001b[38;5;124;43m'\u001b[39;49m\u001b[43m,\u001b[49m\u001b[38;5;124;43m'\u001b[39;49m\u001b[38;5;124;43mp8\u001b[39;49m\u001b[38;5;124;43m'\u001b[39;49m\u001b[43m]\u001b[49m\u001b[43m)\u001b[49m\n\u001b[0;32m      6\u001b[0m plt\u001b[38;5;241m.\u001b[39mlegend(title\u001b[38;5;241m=\u001b[39m\u001b[38;5;124m\"\u001b[39m\u001b[38;5;124mmedian\u001b[39m\u001b[38;5;124m\"\u001b[39m)\n\u001b[0;32m      7\u001b[0m plt\u001b[38;5;241m.\u001b[39mpie(s)\n",
      "File \u001b[1;32mF:\\Users\\sohiniprasad\\anaconda3\\lib\\site-packages\\matplotlib\\pyplot.py:2744\u001b[0m, in \u001b[0;36mpie\u001b[1;34m(x, explode, labels, colors, autopct, pctdistance, shadow, labeldistance, startangle, radius, counterclock, wedgeprops, textprops, center, frame, rotatelabels, normalize, data)\u001b[0m\n\u001b[0;32m   2737\u001b[0m \u001b[38;5;129m@_copy_docstring_and_deprecators\u001b[39m(Axes\u001b[38;5;241m.\u001b[39mpie)\n\u001b[0;32m   2738\u001b[0m \u001b[38;5;28;01mdef\u001b[39;00m \u001b[38;5;21mpie\u001b[39m(\n\u001b[0;32m   2739\u001b[0m         x, explode\u001b[38;5;241m=\u001b[39m\u001b[38;5;28;01mNone\u001b[39;00m, labels\u001b[38;5;241m=\u001b[39m\u001b[38;5;28;01mNone\u001b[39;00m, colors\u001b[38;5;241m=\u001b[39m\u001b[38;5;28;01mNone\u001b[39;00m, autopct\u001b[38;5;241m=\u001b[39m\u001b[38;5;28;01mNone\u001b[39;00m,\n\u001b[1;32m   (...)\u001b[0m\n\u001b[0;32m   2742\u001b[0m         textprops\u001b[38;5;241m=\u001b[39m\u001b[38;5;28;01mNone\u001b[39;00m, center\u001b[38;5;241m=\u001b[39m(\u001b[38;5;241m0\u001b[39m, \u001b[38;5;241m0\u001b[39m), frame\u001b[38;5;241m=\u001b[39m\u001b[38;5;28;01mFalse\u001b[39;00m,\n\u001b[0;32m   2743\u001b[0m         rotatelabels\u001b[38;5;241m=\u001b[39m\u001b[38;5;28;01mFalse\u001b[39;00m, \u001b[38;5;241m*\u001b[39m, normalize\u001b[38;5;241m=\u001b[39m\u001b[38;5;28;01mTrue\u001b[39;00m, data\u001b[38;5;241m=\u001b[39m\u001b[38;5;28;01mNone\u001b[39;00m):\n\u001b[1;32m-> 2744\u001b[0m     \u001b[38;5;28;01mreturn\u001b[39;00m gca()\u001b[38;5;241m.\u001b[39mpie(\n\u001b[0;32m   2745\u001b[0m         x, explode\u001b[38;5;241m=\u001b[39mexplode, labels\u001b[38;5;241m=\u001b[39mlabels, colors\u001b[38;5;241m=\u001b[39mcolors,\n\u001b[0;32m   2746\u001b[0m         autopct\u001b[38;5;241m=\u001b[39mautopct, pctdistance\u001b[38;5;241m=\u001b[39mpctdistance, shadow\u001b[38;5;241m=\u001b[39mshadow,\n\u001b[0;32m   2747\u001b[0m         labeldistance\u001b[38;5;241m=\u001b[39mlabeldistance, startangle\u001b[38;5;241m=\u001b[39mstartangle,\n\u001b[0;32m   2748\u001b[0m         radius\u001b[38;5;241m=\u001b[39mradius, counterclock\u001b[38;5;241m=\u001b[39mcounterclock,\n\u001b[0;32m   2749\u001b[0m         wedgeprops\u001b[38;5;241m=\u001b[39mwedgeprops, textprops\u001b[38;5;241m=\u001b[39mtextprops, center\u001b[38;5;241m=\u001b[39mcenter,\n\u001b[0;32m   2750\u001b[0m         frame\u001b[38;5;241m=\u001b[39mframe, rotatelabels\u001b[38;5;241m=\u001b[39mrotatelabels, normalize\u001b[38;5;241m=\u001b[39mnormalize,\n\u001b[0;32m   2751\u001b[0m         \u001b[38;5;241m*\u001b[39m\u001b[38;5;241m*\u001b[39m({\u001b[38;5;124m\"\u001b[39m\u001b[38;5;124mdata\u001b[39m\u001b[38;5;124m\"\u001b[39m: data} \u001b[38;5;28;01mif\u001b[39;00m data \u001b[38;5;129;01mis\u001b[39;00m \u001b[38;5;129;01mnot\u001b[39;00m \u001b[38;5;28;01mNone\u001b[39;00m \u001b[38;5;28;01melse\u001b[39;00m {}))\n",
      "File \u001b[1;32mF:\\Users\\sohiniprasad\\anaconda3\\lib\\site-packages\\matplotlib\\__init__.py:1412\u001b[0m, in \u001b[0;36m_preprocess_data.<locals>.inner\u001b[1;34m(ax, data, *args, **kwargs)\u001b[0m\n\u001b[0;32m   1409\u001b[0m \u001b[38;5;129m@functools\u001b[39m\u001b[38;5;241m.\u001b[39mwraps(func)\n\u001b[0;32m   1410\u001b[0m \u001b[38;5;28;01mdef\u001b[39;00m \u001b[38;5;21minner\u001b[39m(ax, \u001b[38;5;241m*\u001b[39margs, data\u001b[38;5;241m=\u001b[39m\u001b[38;5;28;01mNone\u001b[39;00m, \u001b[38;5;241m*\u001b[39m\u001b[38;5;241m*\u001b[39mkwargs):\n\u001b[0;32m   1411\u001b[0m     \u001b[38;5;28;01mif\u001b[39;00m data \u001b[38;5;129;01mis\u001b[39;00m \u001b[38;5;28;01mNone\u001b[39;00m:\n\u001b[1;32m-> 1412\u001b[0m         \u001b[38;5;28;01mreturn\u001b[39;00m func(ax, \u001b[38;5;241m*\u001b[39m\u001b[38;5;28mmap\u001b[39m(sanitize_sequence, args), \u001b[38;5;241m*\u001b[39m\u001b[38;5;241m*\u001b[39mkwargs)\n\u001b[0;32m   1414\u001b[0m     bound \u001b[38;5;241m=\u001b[39m new_sig\u001b[38;5;241m.\u001b[39mbind(ax, \u001b[38;5;241m*\u001b[39margs, \u001b[38;5;241m*\u001b[39m\u001b[38;5;241m*\u001b[39mkwargs)\n\u001b[0;32m   1415\u001b[0m     auto_label \u001b[38;5;241m=\u001b[39m (bound\u001b[38;5;241m.\u001b[39marguments\u001b[38;5;241m.\u001b[39mget(label_namer)\n\u001b[0;32m   1416\u001b[0m                   \u001b[38;5;129;01mor\u001b[39;00m bound\u001b[38;5;241m.\u001b[39mkwargs\u001b[38;5;241m.\u001b[39mget(label_namer))\n",
      "File \u001b[1;32mF:\\Users\\sohiniprasad\\anaconda3\\lib\\site-packages\\matplotlib\\axes\\_axes.py:3060\u001b[0m, in \u001b[0;36mAxes.pie\u001b[1;34m(self, x, explode, labels, colors, autopct, pctdistance, shadow, labeldistance, startangle, radius, counterclock, wedgeprops, textprops, center, frame, rotatelabels, normalize)\u001b[0m\n\u001b[0;32m   3058\u001b[0m     explode \u001b[38;5;241m=\u001b[39m [\u001b[38;5;241m0\u001b[39m] \u001b[38;5;241m*\u001b[39m \u001b[38;5;28mlen\u001b[39m(x)\n\u001b[0;32m   3059\u001b[0m \u001b[38;5;28;01mif\u001b[39;00m \u001b[38;5;28mlen\u001b[39m(x) \u001b[38;5;241m!=\u001b[39m \u001b[38;5;28mlen\u001b[39m(labels):\n\u001b[1;32m-> 3060\u001b[0m     \u001b[38;5;28;01mraise\u001b[39;00m \u001b[38;5;167;01mValueError\u001b[39;00m(\u001b[38;5;124m\"\u001b[39m\u001b[38;5;124m'\u001b[39m\u001b[38;5;124mlabel\u001b[39m\u001b[38;5;124m'\u001b[39m\u001b[38;5;124m must be of length \u001b[39m\u001b[38;5;124m'\u001b[39m\u001b[38;5;124mx\u001b[39m\u001b[38;5;124m'\u001b[39m\u001b[38;5;124m\"\u001b[39m)\n\u001b[0;32m   3061\u001b[0m \u001b[38;5;28;01mif\u001b[39;00m \u001b[38;5;28mlen\u001b[39m(x) \u001b[38;5;241m!=\u001b[39m \u001b[38;5;28mlen\u001b[39m(explode):\n\u001b[0;32m   3062\u001b[0m     \u001b[38;5;28;01mraise\u001b[39;00m \u001b[38;5;167;01mValueError\u001b[39;00m(\u001b[38;5;124m\"\u001b[39m\u001b[38;5;124m'\u001b[39m\u001b[38;5;124mexplode\u001b[39m\u001b[38;5;124m'\u001b[39m\u001b[38;5;124m must be of length \u001b[39m\u001b[38;5;124m'\u001b[39m\u001b[38;5;124mx\u001b[39m\u001b[38;5;124m'\u001b[39m\u001b[38;5;124m\"\u001b[39m)\n",
      "\u001b[1;31mValueError\u001b[0m: 'label' must be of length 'x'"
     ]
    },
    {
     "data": {
      "image/png": "[encoded data removed]",
      "text/plain": [
       "<Figure size 432x288 with 1 Axes>"
      ]
     },
     "metadata": {
      "needs_background": "light"
     },
     "output_type": "display_data"
    }
   ],
   "source": []
  },
  {
   "cell_type": "code",
   "execution_count": null,
   "id": "5c817118",
   "metadata": {},
   "outputs": [],
   "source": []
  },
  {
   "cell_type": "code",
   "execution_count": null,
   "id": "9f206fbf",
   "metadata": {},
   "outputs": [],
   "source": []
  }
 ],
 "metadata": {
  "kernelspec": {
   "display_name": "Python 3 (ipykernel)",
   "language": "python",
   "name": "python3"
  },
  "language_info": {
   "codemirror_mode": {
    "name": "ipython",
    "version": 3
   },
   "file_extension": ".py",
   "mimetype": "text/x-python",
   "name": "python",
   "nbconvert_exporter": "python",
   "pygments_lexer": "ipython3",
   "version": "3.9.12"
  }
 },
 "nbformat": 4,
 "nbformat_minor": 5
}
